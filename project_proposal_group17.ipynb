{
 "cells": [
  {
   "cell_type": "markdown",
   "id": "351af85d-e8fb-4db7-aac6-82c9eacc52c7",
   "metadata": {},
   "source": [
    "# PROJECT PROPOSAL GROUP 17\n",
    "\n",
    "## Title/ Inferential Question"
   ]
  },
  {
   "cell_type": "markdown",
   "id": "9d9a6e15-4abd-4cc1-856d-911d8d126299",
   "metadata": {},
   "source": [
    "### Introduction\n",
    "\n",
    "-insert intro here-\n"
   ]
  },
  {
   "cell_type": "markdown",
   "id": "85344786-7ae8-4e3b-b340-989efd3a4948",
   "metadata": {},
   "source": [
    "### Data Analysis"
   ]
  },
  {
   "cell_type": "code",
   "execution_count": 15,
   "id": "7e7cd7f2-5724-406b-91cb-9bda9c0295ed",
   "metadata": {},
   "outputs": [],
   "source": [
    "#Load this before continuing\n",
    "library(tidyverse)\n",
    "library(digest)\n",
    "library(infer)\n",
    "library(repr)\n",
    "library(tidyverse)"
   ]
  },
  {
   "cell_type": "code",
   "execution_count": 11,
   "id": "07c27446-ae87-4484-aafa-8756d5844bc8",
   "metadata": {},
   "outputs": [],
   "source": [
    "#Reading data into R\n",
    "#_df <- read_csv(\"abc.csv\")\n",
    "#head(_df)"
   ]
  },
  {
   "cell_type": "markdown",
   "id": "a00d42e4-4ff7-4dc6-8db6-90b360707dde",
   "metadata": {},
   "source": [
    "### Methods\n",
    "\n",
    "-insert methods here-"
   ]
  },
  {
   "cell_type": "markdown",
   "id": "9addbedd-411d-4d34-94b6-9e22661bb7ca",
   "metadata": {},
   "source": [
    "### References\n",
    "\n",
    "-insert ref here-"
   ]
  },
  {
   "cell_type": "code",
   "execution_count": null,
   "id": "46119c4e-effc-4e9a-94f9-16753b6bb863",
   "metadata": {},
   "outputs": [],
   "source": []
  }
 ],
 "metadata": {
  "kernelspec": {
   "display_name": "R",
   "language": "R",
   "name": "ir"
  },
  "language_info": {
   "codemirror_mode": "r",
   "file_extension": ".r",
   "mimetype": "text/x-r-source",
   "name": "R",
   "pygments_lexer": "r",
   "version": "4.1.3"
  }
 },
 "nbformat": 4,
 "nbformat_minor": 5
}
